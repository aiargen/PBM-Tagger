{
 "cells": [
  {
   "cell_type": "code",
   "execution_count": 34,
   "id": "c1022912",
   "metadata": {},
   "outputs": [],
   "source": [
    "import pandas as pd\n",
    "import regex as re"
   ]
  },
  {
   "cell_type": "code",
   "execution_count": null,
   "id": "771e6544",
   "metadata": {},
   "outputs": [
    {
     "data": {
      "text/html": [
       "<div>\n",
       "<style scoped>\n",
       "    .dataframe tbody tr th:only-of-type {\n",
       "        vertical-align: middle;\n",
       "    }\n",
       "\n",
       "    .dataframe tbody tr th {\n",
       "        vertical-align: top;\n",
       "    }\n",
       "\n",
       "    .dataframe thead th {\n",
       "        text-align: right;\n",
       "    }\n",
       "</style>\n",
       "<table border=\"1\" class=\"dataframe\">\n",
       "  <thead>\n",
       "    <tr style=\"text-align: right;\">\n",
       "      <th></th>\n",
       "      <th>Case Number</th>\n",
       "      <th>Subject</th>\n",
       "      <th>Description</th>\n",
       "      <th>Case Summary</th>\n",
       "    </tr>\n",
       "  </thead>\n",
       "  <tbody>\n",
       "    <tr>\n",
       "      <th>0</th>\n",
       "      <td>2008416</td>\n",
       "      <td>BMC Digital Workplace 22.1.06 - \"On behalf of\"...</td>\n",
       "      <td>Hello, We are facing an issue regarding the \"R...</td>\n",
       "      <td>Problem: BMC Digital Workplace 22.1.06 - \"On b...</td>\n",
       "    </tr>\n",
       "    <tr>\n",
       "      <th>1</th>\n",
       "      <td>2008401</td>\n",
       "      <td>Ticket status issue</td>\n",
       "      <td>Dear, We have one of our VIP users that is cla...</td>\n",
       "      <td>Problem: Requests in DWP/DWPC are active even ...</td>\n",
       "    </tr>\n",
       "    <tr>\n",
       "      <th>2</th>\n",
       "      <td>2008425</td>\n",
       "      <td>Unable to edit Server Service Questionary in DEV</td>\n",
       "      <td>Dear Team, We are Unable to edit Server Servic...</td>\n",
       "      <td>Problem: Unable to edit questionnaire 3WE What...</td>\n",
       "    </tr>\n",
       "    <tr>\n",
       "      <th>3</th>\n",
       "      <td>2008565</td>\n",
       "      <td>Digital Workplace Catalog permissions</td>\n",
       "      <td>Hello, we need the following users to have adm...</td>\n",
       "      <td>Problem: Digital Workplace Catalog permissions...</td>\n",
       "    </tr>\n",
       "    <tr>\n",
       "      <th>4</th>\n",
       "      <td>2009315</td>\n",
       "      <td>Automating creation of user accounts in Helix ...</td>\n",
       "      <td>I have an outstanding recommendation from the ...</td>\n",
       "      <td>Problem: 3WE What: Where: When: Extent: ------...</td>\n",
       "    </tr>\n",
       "  </tbody>\n",
       "</table>\n",
       "</div>"
      ],
      "text/plain": [
       "   Case Number                                            Subject  \\\n",
       "0      2008416  BMC Digital Workplace 22.1.06 - \"On behalf of\"...   \n",
       "1      2008401                                Ticket status issue   \n",
       "2      2008425   Unable to edit Server Service Questionary in DEV   \n",
       "3      2008565              Digital Workplace Catalog permissions   \n",
       "4      2009315  Automating creation of user accounts in Helix ...   \n",
       "\n",
       "                                         Description  \\\n",
       "0  Hello, We are facing an issue regarding the \"R...   \n",
       "1  Dear, We have one of our VIP users that is cla...   \n",
       "2  Dear Team, We are Unable to edit Server Servic...   \n",
       "3  Hello, we need the following users to have adm...   \n",
       "4  I have an outstanding recommendation from the ...   \n",
       "\n",
       "                                        Case Summary  \n",
       "0  Problem: BMC Digital Workplace 22.1.06 - \"On b...  \n",
       "1  Problem: Requests in DWP/DWPC are active even ...  \n",
       "2  Problem: Unable to edit questionnaire 3WE What...  \n",
       "3  Problem: Digital Workplace Catalog permissions...  \n",
       "4  Problem: 3WE What: Where: When: Extent: ------...  "
      ]
     },
     "execution_count": 17,
     "metadata": {},
     "output_type": "execute_result"
    }
   ],
   "source": [
    "#This error means that the file you are trying to read is not a real Excel file—even though it has an .xls extension. The content starts with <head><M, which suggests it is actually an HTML file (possibly a report exported from a web application).\n",
    "data = pd.read_html(r'C:\\Data\\Skills\\Python\\Datasets\\PBMTag Data\\report1753197828837.xls') #Report fetced from Salesforce is actually a HTML transformed to xls, \n",
    "report_data = data[0]\n",
    "report_data.head()"
   ]
  },
  {
   "cell_type": "code",
   "execution_count": 32,
   "id": "aca3da7a",
   "metadata": {},
   "outputs": [
    {
     "data": {
      "text/plain": [
       "'Problem: Unable to edit questionnaire 3WE What: Customer has a questionnaire \"Server\", whenever end user tries to edit the questionnaire we get an error Error retrieving workflow questionnaire information Where: Dev - DWP version 25.2.00 | build number: 35 When: Issue reported on 07/07 Extent: One service affected. Steps to replicate: 1. Login to DWPC -> Services -> Services 2. Open service \"Server\" -> Edit -> Workflow 3. Click in Edit questionnaire, error message will pop up ---------------------------------------------------------------------------------------------------- Action Taken: 07/07: 1. R&D discussion with logs and analysis: https://teams.microsoft.com/l/message/19:155e65c3543c4f79bfc3089446a57a88@thread.tacv2/1751895614573?tenantId=92b796c5-5839-40a6-8dd9-c1fad320c69b&groupId=9f8be3aa-9422-4aaf-a8d3-93bc59b4d469&parentMessageId=1751895614573&teamName=DWP-Backline%20Support&channelName=General&createdTime=1751895614573 2. Issue got resolved after removing input variable with the \"Record\" type from the workflow of this service 10/07: 1. Customer provided closure ---------------------------------------------------------------------------------------------------- Action Plan: Closing the case ---------------------------------------------------------------------------------------------------- Action Owner: TSA for closure'"
      ]
     },
     "execution_count": 32,
     "metadata": {},
     "output_type": "execute_result"
    }
   ],
   "source": [
    "sample = report_data[\"Case Summary\"][2]\n",
    "sample"
   ]
  },
  {
   "cell_type": "code",
   "execution_count": null,
   "id": "cb310678",
   "metadata": {},
   "outputs": [],
   "source": [
    "def clean_case_summary(text):\n",
    "    # 1. Remove URLs (http, https, or Microsoft Teams link)\n",
    "    text = re.sub(r'https?://\\S+|www\\.\\S+|teams\\.microsoft\\.com\\S*', '', text)\n",
    "\n",
    "    # 2. Replace customer-env-like values (e.g., som-qa, abd-dev, ericsson-prod)\n",
    "    text = re.sub(r'\\b[a-zA-Z]+-(qa|dev|prod|sand)\\b', '<customer-env>', text, flags=re.IGNORECASE)\n",
    "\n",
    "    # 3. Remove lines or series with only hyphens (---, ----, etc.)\n",
    "    text = re.sub(r'-{2,}', '', text)\n",
    "\n",
    "    # Optional: Normalize extra whitespace\n",
    "    text = re.sub(r'\\n\\s*\\n', '\\n\\n', text).strip()\n",
    "\n",
    "    return text"
   ]
  },
  {
   "cell_type": "code",
   "execution_count": 44,
   "id": "177d73cc",
   "metadata": {},
   "outputs": [
    {
     "data": {
      "text/plain": [
       "'Problem: Unable to edit questionnaire 3WE What: Customer has a questionnaire \"Server\", whenever end user tries to edit the questionnaire we get an error Error retrieving workflow questionnaire information Where: Dev - DWP version 25.2.00 | build number: 35 When: Issue reported on 07/07 Extent: One service affected. Steps to replicate: 1. Login to DWPC -> Services -> Services 2. Open service \"Server\" -> Edit -> Workflow 3. Click in Edit questionnaire, error message will pop up  Action Taken: 07/07: 1. R&D discussion with logs and analysis:  2. Issue got resolved after removing input variable with the \"Record\" type from the workflow of this service 10/07: 1. Customer provided closure  Action Plan: Closing the case  Action Owner: TSA for closure'"
      ]
     },
     "execution_count": 44,
     "metadata": {},
     "output_type": "execute_result"
    }
   ],
   "source": [
    "clean_case_summary(sample)"
   ]
  },
  {
   "cell_type": "code",
   "execution_count": null,
   "id": "ce81e3c3",
   "metadata": {},
   "outputs": [],
   "source": [
    "#Applying the clean_case_summary function to the Case Summary column\n",
    "report_data[\"Case Summary\"] = report_data[\"Case Summary\"].apply(clean_case_summary)\n"
   ]
  },
  {
   "cell_type": "code",
   "execution_count": 59,
   "id": "da30bd33",
   "metadata": {},
   "outputs": [
    {
     "data": {
      "text/plain": [
       "'Problem: Delay of status transmission of request 3WE What: Delay of status transmission of request Where: Dev - DWP version 25.1.01 and Build number 11 When: Issue reported on 09 Extent: Performance  Action Taken: >> Collected apifiltersql, myit-sb logs for request 13 and CRQ000000000616 >> R&D escalation:  >> Pod restart resolved the issue >> Customer provided closure  Action Plan: Closing the case  Action Owner: TSA for closure'"
      ]
     },
     "execution_count": 59,
     "metadata": {},
     "output_type": "execute_result"
    }
   ],
   "source": [
    "report_data[\"Case Summary\"][7]"
   ]
  }
 ],
 "metadata": {
  "kernelspec": {
   "display_name": "Python 3",
   "language": "python",
   "name": "python3"
  },
  "language_info": {
   "codemirror_mode": {
    "name": "ipython",
    "version": 3
   },
   "file_extension": ".py",
   "mimetype": "text/x-python",
   "name": "python",
   "nbconvert_exporter": "python",
   "pygments_lexer": "ipython3",
   "version": "3.13.5"
  }
 },
 "nbformat": 4,
 "nbformat_minor": 5
}
